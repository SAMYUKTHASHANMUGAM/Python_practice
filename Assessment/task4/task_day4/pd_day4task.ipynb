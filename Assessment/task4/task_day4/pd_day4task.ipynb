{
  "nbformat": 4,
  "nbformat_minor": 0,
  "metadata": {
    "colab": {
      "provenance": []
    },
    "kernelspec": {
      "name": "python3",
      "display_name": "Python 3"
    },
    "language_info": {
      "name": "python"
    }
  },
  "cells": [
    {
      "cell_type": "code",
      "execution_count": null,
      "metadata": {
        "id": "6wzTsRGV0Lxe"
      },
      "outputs": [],
      "source": [
        "import pandas as pd\n",
        "import numpy as np\n",
        "\n",
        "# Q1: Create a DataFrame with some missing values in columns like 'Name', 'Age', and 'Score'\n",
        "data = {\n",
        "    'Name': ['Alice', 'Bob', np.nan, 'David', 'Eva'],\n",
        "    'Age': [24, np.nan, 22, 23, np.nan],\n",
        "    'Score': [85, 90, np.nan, 88, 95]\n",
        "}\n",
        "df = pd.DataFrame(data)\n",
        "df\n",
        "\n"
      ]
    },
    {
      "cell_type": "code",
      "source": [
        "# Identify missing values using isnull() and notnull()\n",
        "missing_values = df.isnull()\n",
        "not_missing_values = df.notnull()\n",
        "print(missing_values)\n",
        "print(not_missing_values)"
      ],
      "metadata": {
        "id": "Bh2HU3Ax0Ov6"
      },
      "execution_count": null,
      "outputs": []
    },
    {
      "cell_type": "code",
      "source": [
        "# Drop rows with any missing values\n",
        "df_dropped = df.dropna()"
      ],
      "metadata": {
        "id": "IqxDVW310R5l"
      },
      "execution_count": null,
      "outputs": []
    }
  ]
}